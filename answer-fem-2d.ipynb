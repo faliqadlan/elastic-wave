{
 "cells": [
  {
   "cell_type": "code",
   "execution_count": 6,
   "metadata": {},
   "outputs": [
    {
     "name": "stdout",
     "output_type": "stream",
     "text": [
      "Spatial step size: 200.0\n",
      "Time step size: 0.06\n",
      "Number of time steps: 333\n",
      "Number of spatial steps: 50, 50\n"
     ]
    },
    {
     "data": {
      "text/plain": [
       "bilinear_basis (generic function with 1 method)"
      ]
     },
     "execution_count": 6,
     "metadata": {},
     "output_type": "execute_result"
    }
   ],
   "source": [
    "using LinearAlgebra\n",
    "using Plots\n",
    "using SparseArrays\n",
    "\n",
    "# Basic parameters\n",
    "vs = 1000.0  # Wave velocity [m/s]\n",
    "f = 0.5  # Central frequency of the source (in Hz)\n",
    "λ = vs / f  # Wavelength\n",
    "\n",
    "# Spatial and temporal parameters based on CFL condition\n",
    "ep = 0.3  # Stability limit\n",
    "dx = 0.1 * λ  # Spatial step size\n",
    "dx_min = dx\n",
    "dt = ep * dx / vs  # Time step size based on CFL\n",
    "\n",
    "t_max = 20.0  # Maximum simulation time (in seconds)\n",
    "x_max = 10000.0  # Maximum spatial coordinate (in meters)\n",
    "\n",
    "# Print information\n",
    "println(\"Spatial step size: $dx\")\n",
    "println(\"Time step size: $dt\")\n",
    "\n",
    "# Calculate number of steps\n",
    "nt = round(Int, t_max / dt)\n",
    "nx = round(Int, x_max / dx)\n",
    "ny = nx  # Assuming square domain for 2D\n",
    "println(\"Number of time steps: $nt\")\n",
    "println(\"Number of spatial steps: $nx, $ny\")\n",
    "\n",
    "# Initialize spatial coordinates\n",
    "elem = zeros(nx,ny)\n",
    "\n",
    "for i in 1:nx\n",
    "    for j in 1:ny\n",
    "        elem[i,j] = (i-1)*nx + j\n",
    "    end\n",
    "end\n",
    "\n",
    "\n",
    "# parameters physical\n",
    "ro0 = 1500    # Density [kg/m^3]\n",
    "ro = elem * 0 .+ ro0          # initialize density array\n",
    "young_mod = elem * 0 .+ ro .* vs .^ 2   # calculate young modulus from density and velocity\n",
    "\n",
    "# Time axis\n",
    "t = range(dt, stop=nt * dt, length=nt)\n",
    "\n",
    "# Displacement\n",
    "u = zeros(nx, ny)\n",
    "uold = zeros(nx, ny)\n",
    "unew = zeros(nx, ny)\n",
    "\n",
    "# Source term (simple Ricker wavelet)\n",
    "function ricker_wavelet(t, f, tau=2.0)\n",
    "    # A = (1 - 2 * π^2 * f^2 * (t - tau)^2)\n",
    "    # wavelet = A * exp(-π^2 * f^2 * (t - tau)^2)\n",
    "    wavelet = sin(2 * π * f * (t - tau)) * exp(-π^2 * f^2 * (t - tau)^2)\n",
    "    return wavelet\n",
    "end\n",
    "\n",
    "function bilinear_basis(xi, yi)\n",
    "  return [(1 - xi) * (1 - yi) / 4, (1 + xi) * (1 - yi) / 4, (1 + xi) * (1 + yi) / 4, (1 - xi) * (1 + yi) / 4]\n",
    "end\n",
    "\n",
    "function jacobian(x1, x2, y1, y2)\n",
    "  # Calculate basis function values at each point\n",
    "  b11 = (1 - x1 / (x2 - x1)) * (1 - y1 / (y2 - y1)) / 4\n",
    "  b12 = (1 + x1 / (x2 - x1)) * (1 - y1 / (y2 - y1)) / 4\n",
    "  b21 = (1 + x1 / (x2 - x1)) * (1 + y1 / (y2 - y1)) / 4\n",
    "  b22 = (1 - x1 / (x2 - x1)) * (1 + y1 / (y2 - y1)) / 4\n",
    "\n",
    "  # Define Jacobian matrix\n",
    "  J = zeros(2, 2)\n",
    "  J[1, 1] = (b22 - b12) / (x2 - x1)\n",
    "  J[1, 2] = (b21 - b11) / (y2 - y1)\n",
    "  J[2, 1] = (b12 - b22) / (x2 - x1)\n",
    "  J[2, 2] = (b11 - b21) / (y2 - y1)\n",
    "\n",
    "  return J\n",
    "end\n",
    "\n"
   ]
  }
 ],
 "metadata": {
  "kernelspec": {
   "display_name": "Julia 1.9.3",
   "language": "julia",
   "name": "julia-1.9"
  },
  "language_info": {
   "file_extension": ".jl",
   "mimetype": "application/julia",
   "name": "julia",
   "version": "1.9.3"
  }
 },
 "nbformat": 4,
 "nbformat_minor": 2
}
